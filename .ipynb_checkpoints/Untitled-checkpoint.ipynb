{
 "cells": [
  {
   "cell_type": "code",
   "execution_count": null,
   "id": "f84f74e9-88f8-4f6d-96af-a3a9fc582e92",
   "metadata": {},
   "outputs": [],
   "source": []
  }
 ],
 "metadata": {
  "kernelspec": {
   "display_name": "",
   "name": ""
  },
  "language_info": {
   "name": ""
  }
 },
 "nbformat": 4,
 "nbformat_minor": 5
}
